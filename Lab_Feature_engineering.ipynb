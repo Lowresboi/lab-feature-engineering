{
  "nbformat": 4,
  "nbformat_minor": 0,
  "metadata": {
    "colab": {
      "provenance": []
    },
    "kernelspec": {
      "name": "python3",
      "display_name": "Python 3"
    },
    "language_info": {
      "name": "python"
    }
  },
  "cells": [
    {
      "cell_type": "code",
      "execution_count": null,
      "metadata": {
        "id": "GBjRoNbg8FDr"
      },
      "outputs": [],
      "source": [
        "# Libraries needed\n",
        "from sqlalchemy import create_engine\n",
        "import pandas as pd\n",
        "import numpy as np\n",
        "import getpass\n",
        "import matplotlib.pyplot as plt\n",
        "import seaborn as sns\n",
        "from sklearn.preprocessing import Normalizer, StandardScaler\n",
        "from sklearn.model_selection import train_test_split\n",
        "from sklearn.linear_model import LogisticRegression\n",
        "from sklearn.metrics import confusion_matrix, classification_report\n",
        "from sklearn.metrics import accuracy_score, classification_report, confusion_matrix\n",
        "from sklearn.preprocessing import OneHotEncoder\n",
        "\n",
        "# Mounting the data\n",
        "df = pd.read_csv (\"/content/learningSet.csv\")\n",
        "df.head()"
      ]
    },
    {
      "cell_type": "code",
      "source": [
        "# Checking numericals\n",
        "numerical_columns = df.select_dtypes(\"number\")\n",
        "numerical_columns"
      ],
      "metadata": {
        "id": "0n6QGmC79bx4"
      },
      "execution_count": null,
      "outputs": []
    },
    {
      "cell_type": "code",
      "source": [
        "# Selecting numerical\n",
        "numerical_columns = df.select_dtypes(include='number').columns\n",
        "\n",
        "# Checking the null values\n",
        "numerical_nulls = df[numerical_columns].isnull().sum()\n",
        "\n",
        "# Display all counts we have\n",
        "print(\"Null values in numerical columns:\")\n",
        "print(numerical_nulls)"
      ],
      "metadata": {
        "id": "iMBgf0vy_8x6"
      },
      "execution_count": null,
      "outputs": []
    },
    {
      "cell_type": "code",
      "source": [
        "# Filling null values\n",
        "df['AGE'].fillna(df['AGE'].mean(), inplace=True)\n",
        "df['NUMCHLD'].fillna(df['NUMCHLD'].median(), inplace=True)\n",
        "df['CLUSTER2'].fillna(0, inplace=True)"
      ],
      "metadata": {
        "id": "-hw3pL3mKhH9"
      },
      "execution_count": null,
      "outputs": []
    },
    {
      "cell_type": "code",
      "source": [
        "df = df.dropna(subset=['GEOCODE2'])"
      ],
      "metadata": {
        "id": "rzVBipX9D1LG"
      },
      "execution_count": null,
      "outputs": []
    },
    {
      "cell_type": "code",
      "source": [
        "df['WEALTH1'] = df['WEALTH1'].astype(str).str.strip().str.upper()\n",
        "print(df['WEALTH1'].value_counts())"
      ],
      "metadata": {
        "id": "Dh12XLQGFwtp"
      },
      "execution_count": null,
      "outputs": []
    },
    {
      "cell_type": "code",
      "source": [
        "print(df['ADI'].value_counts())"
      ],
      "metadata": {
        "id": "Wvlz0QYNGUcJ"
      },
      "execution_count": null,
      "outputs": []
    },
    {
      "cell_type": "code",
      "source": [
        "df['ADI'] = pd.to_numeric(df['ADI'], errors='coerce')\n",
        "print(df['ADI'].value_counts())"
      ],
      "metadata": {
        "id": "uRfa8cVEF697"
      },
      "execution_count": null,
      "outputs": []
    },
    {
      "cell_type": "code",
      "source": [
        "print(df['MSA'].value_counts())"
      ],
      "metadata": {
        "id": "HaUODiPIH-k0"
      },
      "execution_count": null,
      "outputs": []
    },
    {
      "cell_type": "code",
      "source": [
        "# Columns with nulls\n",
        "columns_to_fill = ['ADI', 'DMA', 'MSA']\n",
        "\n",
        "# Lambda function\n",
        "mean_impute = lambda col: col.fillna(col.mean())\n",
        "df[columns_to_fill] = df[columns_to_fill].apply(mean_impute, axis=0)"
      ],
      "metadata": {
        "id": "znQFx36yNJhR"
      },
      "execution_count": null,
      "outputs": []
    }
  ]
}